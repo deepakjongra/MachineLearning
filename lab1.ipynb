{
  "nbformat": 4,
  "nbformat_minor": 0,
  "metadata": {
    "colab": {
      "provenance": [],
      "authorship_tag": "ABX9TyN50lMjg9CMrL/acI1Wi4V2",
      "include_colab_link": true
    },
    "kernelspec": {
      "name": "python3",
      "display_name": "Python 3"
    },
    "language_info": {
      "name": "python"
    }
  },
  "cells": [
    {
      "cell_type": "markdown",
      "metadata": {
        "id": "view-in-github",
        "colab_type": "text"
      },
      "source": [
        "<a href=\"https://colab.research.google.com/github/lostaim/MachineLearning/blob/main/lab1.ipynb\" target=\"_parent\"><img src=\"https://colab.research.google.com/assets/colab-badge.svg\" alt=\"Open In Colab\"/></a>"
      ]
    },
    {
      "cell_type": "code",
      "execution_count": 13,
      "metadata": {
        "id": "eK3dyWmk66_8"
      },
      "outputs": [],
      "source": [
        "import pandas as pd\n",
        "import numpy as np\n",
        "import matplotlib.pyplot as mtp\n"
      ]
    },
    {
      "cell_type": "code",
      "source": [
        "def estimate_coef(x,y):\n",
        "  n = np.size(x);\n",
        "  m_x = np.mean(x);\n",
        "  m_y = np.mean(y);\n",
        "  ss_xy = np.sum(y*x) - n*m_y*m_x\n",
        "  ss_xx = np.sum(x*x) - n*m_x*m_x\n",
        "\n",
        "  b_1 = ss_xy / ss_xx\n",
        "  b_0 = m_y - b_1*m_x\n",
        "\n",
        "  return(b_0, b_1)\n",
        "\n",
        "def plot_reg(x,y,b):\n",
        "  mtp.scatter(x,y,color='m', marker = 'o', s=30)\n",
        "  y_pred = b[0] + b[1]*x\n",
        "  mtp.plot(x, y_pred, color = 'g')\n",
        "  mtp.xlabel('x')\n",
        "  mtp.ylabel('y')\n",
        "\n",
        "  mtp.show()\n",
        "\n",
        "def main():\n",
        "  x = np.array([0,10,2,30,4,50,6,70,80])\n",
        "  y = np.array([0,1,20,3,40,5,60,7,8])\n",
        "\n",
        "  b = estimate_coef(x,y);\n",
        "  print(\"estimated coefficients:\\nb_0 = {}\\nb_1 = {}\".format(b[0],b[1]))\n",
        "\n",
        "  plot_reg(x,y,b)\n",
        "\n",
        "if __name__ == \"__main__\":\n",
        "  main()\n"
      ],
      "metadata": {
        "id": "yBUfB09vQFoS",
        "outputId": "65d71f12-b66a-4b6a-be9e-d78fb341f853",
        "colab": {
          "base_uri": "https://localhost:8080/",
          "height": 331
        }
      },
      "execution_count": 20,
      "outputs": [
        {
          "output_type": "stream",
          "name": "stdout",
          "text": [
            "estimated coefficients:\n",
            "b_0 = 23.15076923076923\n",
            "b_1 = -0.2553846153846154\n"
          ]
        },
        {
          "output_type": "display_data",
          "data": {
            "text/plain": [
              "<Figure size 432x288 with 1 Axes>"
            ],
            "image/png": "[encoded data removed]"
          },
          "metadata": {
            "needs_background": "light"
          }
        }
      ]
    }
  ]
}